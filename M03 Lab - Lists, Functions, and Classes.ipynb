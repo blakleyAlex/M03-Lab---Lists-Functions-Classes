{
 "cells": [
  {
   "cell_type": "code",
   "execution_count": 7,
   "id": "7ceee814",
   "metadata": {},
   "outputs": [
    {
     "name": "stdout",
     "output_type": "stream",
     "text": [
      "What type of vehicle do you drive?Car\n",
      "What year is the vehicle?2003\n",
      "What make is the vehicle?Toyota\n",
      "What model is the vehicle?Camry\n",
      "How many doors does the car have?4\n",
      "Is the roof solid or a sun roof?Sun\n",
      "\n",
      "Vehicle Summary:\n",
      "Vehicle Type: Car\n",
      "Year: 2003\n",
      "Make: Toyota\n",
      "Model: Camry\n",
      "Doors: 4\n",
      "Roof: Sun\n"
     ]
    }
   ],
   "source": [
    "class Vehicle:\n",
    "    def __init__(self, vehicle_type):\n",
    "        self.vehicle_type = vehicle_type\n",
    "        \n",
    "class Automobile(Vehicle):\n",
    "    def __init__(self, vehicle_type, year, make, model, doors, roof):\n",
    "        super().__init__(vehicle_type)\n",
    "        self.year = year\n",
    "        self.make = make\n",
    "        self.model = model\n",
    "        self.doors = doors\n",
    "        self.roof = roof\n",
    "        \n",
    "def get_car():        \n",
    "    v_type = input(\"What type of vehicle do you drive?\")\n",
    "    year = input(\"What year is the vehicle?\")\n",
    "    make = input(\"What make is the vehicle?\")\n",
    "    model = input(\"What model is the vehicle?\")\n",
    "    doors = input(\"How many doors does the car have?\")\n",
    "    roof = input(\"Is the roof solid or a sun roof?\")\n",
    "\n",
    "    return v_type, year, make, model, doors, roof\n",
    "\n",
    "def main():\n",
    "    car_data = get_car()\n",
    "    car = Automobile(*car_data)\n",
    "    \n",
    "    print(\"\\nVehicle Summary:\")\n",
    "    print(f\"Vehicle Type: {car.vehicle_type}\")\n",
    "    print(f\"Year: {car.year}\")\n",
    "    print(f\"Make: {car.make}\")\n",
    "    print(f\"Model: {car.model}\")\n",
    "    print(f\"Doors: {car.doors}\")\n",
    "    print(f\"Roof: {car.roof}\")\n",
    "\n",
    "\n",
    "\n",
    "main()\n"
   ]
  },
  {
   "cell_type": "code",
   "execution_count": null,
   "id": "f652315e",
   "metadata": {},
   "outputs": [],
   "source": []
  }
 ],
 "metadata": {
  "kernelspec": {
   "display_name": "Python 3 (ipykernel)",
   "language": "python",
   "name": "python3"
  },
  "language_info": {
   "codemirror_mode": {
    "name": "ipython",
    "version": 3
   },
   "file_extension": ".py",
   "mimetype": "text/x-python",
   "name": "python",
   "nbconvert_exporter": "python",
   "pygments_lexer": "ipython3",
   "version": "3.11.5"
  }
 },
 "nbformat": 4,
 "nbformat_minor": 5
}
